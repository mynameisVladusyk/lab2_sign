{
 "cells": [
  {
   "cell_type": "code",
   "execution_count": 4,
   "id": "11ba3f59",
   "metadata": {},
   "outputs": [
    {
     "name": "stdout",
     "output_type": "stream",
     "text": [
      "+--------+--------------------+--------------------+-----------------------+\n",
      "| Signal |     Operation      |      Acrobat       |        Handball       |\n",
      "+--------+--------------------+--------------------+-----------------------+\n",
      "| cop_x  |        Mean        | 1.1128686828876404 | -0.026061634100388833 |\n",
      "| cop_x  |       Median       |      1.15059       |      -0.00615716      |\n",
      "| cop_x  | Standart deviation | 1.2487602792944468 |      -0.00615716      |\n",
      "+--------+--------------------+--------------------+-----------------------+\n",
      "+--------+--------------------+---------------------+--------------------+\n",
      "| Signal |     Operation      |       Acrobat       |      Handball      |\n",
      "+--------+--------------------+---------------------+--------------------+\n",
      "| cop_y  |        Mean        | 0.10876434673432407 | 2.5549840262990458 |\n",
      "| cop_y  |       Median       |      -0.424021      |      3.50005       |\n",
      "| cop_y  | Standart deviation |  6.759592250726211  |      3.50005       |\n",
      "+--------+--------------------+---------------------+--------------------+\n",
      "+---------+--------------------+--------------------+-------------------+\n",
      "|  Signal |     Operation      |      Acrobat       |      Handball     |\n",
      "+---------+--------------------+--------------------+-------------------+\n",
      "| total_f |        Mean        | 25.300669989126497 | 77.36033039943443 |\n",
      "| total_f |       Median       |      25.3249       |      77.3442      |\n",
      "| total_f | Standart deviation | 0.7077213422067821 |      77.3442      |\n",
      "+---------+--------------------+--------------------+-------------------+\n"
     ]
    }
   ],
   "source": [
    "import pandas as pd\n",
    "import numpy as np\n",
    "import matplotlib.pyplot as plt\n",
    "#Зчитуємо сигнали\n",
    "acr_sway = pd.read_csv('Downloads\\\\laba\\\\2.6.12\\\\acrobat\\\\8.csv', header = None, sep = ' ')\n",
    "x1 = acr_sway[5]\n",
    "y1 = acr_sway[6]\n",
    "z1 = acr_sway[7]\n",
    "hand_sway = pd.read_csv('Downloads\\\\laba\\\\2.6.12\\\\handball\\\\11.csv', header = None, sep = ' ')\n",
    "x2 = hand_sway[5]\n",
    "y2 = hand_sway[6]\n",
    "z2 = hand_sway[7]\n",
    "#Створюємо таблиці\n",
    "from prettytable import PrettyTable\n",
    "sway_x = PrettyTable()\n",
    "sway_x.field_names = [\"Signal\", \"Operation\", \"Acrobat\", \"Handball\"]\n",
    "sway_x.add_rows(\n",
    "    [\n",
    "        [\"cop_x\", \"Mean\", np.mean(x1), np.mean(x2)],\n",
    "        [\"cop_x\", \"Median\", np.median(x1), np.median(x2)],\n",
    "        [\"cop_x\", \"Standart deviation\", np.std(x1), np.median(x2)]\n",
    "    ]\n",
    ")\n",
    "#Виводими тоблицю на екран\n",
    "print(sway_x)\n",
    "sway_y = PrettyTable()\n",
    "sway_y.field_names = [\"Signal\", \"Operation\", \"Acrobat\", \"Handball\"]\n",
    "sway_y.add_rows(\n",
    "    [\n",
    "        [\"cop_y\", \"Mean\", np.mean(y1), np.mean(y2)],\n",
    "        [\"cop_y\", \"Median\", np.median(y1), np.median(y2)],\n",
    "        [\"cop_y\", \"Standart deviation\", np.std(y1), np.median(y2)]\n",
    "    ]\n",
    ")\n",
    "#Виводими тоблицю на екран\n",
    "print(sway_y)\n",
    "sway_z = PrettyTable()\n",
    "sway_z.field_names = [\"Signal\", \"Operation\", \"Acrobat\", \"Handball\"]\n",
    "sway_z.add_rows(\n",
    "    [\n",
    "        [\"total_f\", \"Mean\", np.mean(z1), np.mean(z2)],\n",
    "        [\"total_f\", \"Median\", np.median(z1), np.median(z2)],\n",
    "        [\"total_f\", \"Standart deviation\", np.std(z1), np.median(z2)]\n",
    "    ]\n",
    ")\n",
    "#Виводими тоблицю на екран\n",
    "print(sway_z)"
   ]
  },
  {
   "cell_type": "code",
   "execution_count": null,
   "id": "29e62027",
   "metadata": {},
   "outputs": [],
   "source": []
  }
 ],
 "metadata": {
  "kernelspec": {
   "display_name": "Python 3 (ipykernel)",
   "language": "python",
   "name": "python3"
  },
  "language_info": {
   "codemirror_mode": {
    "name": "ipython",
    "version": 3
   },
   "file_extension": ".py",
   "mimetype": "text/x-python",
   "name": "python",
   "nbconvert_exporter": "python",
   "pygments_lexer": "ipython3",
   "version": "3.10.7"
  }
 },
 "nbformat": 4,
 "nbformat_minor": 5
}
