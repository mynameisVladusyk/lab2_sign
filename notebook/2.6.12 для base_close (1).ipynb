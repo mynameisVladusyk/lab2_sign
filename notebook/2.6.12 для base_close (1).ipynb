{
 "cells": [
  {
   "cell_type": "code",
   "execution_count": 2,
   "id": "469ccf9d",
   "metadata": {},
   "outputs": [
    {
     "name": "stdout",
     "output_type": "stream",
     "text": [
      "Requirement already satisfied: prettytable in c:\\users\\vboga\\appdata\\local\\programs\\python\\python310\\lib\\site-packages (3.4.1)\n",
      "Requirement already satisfied: wcwidth in c:\\users\\vboga\\appdata\\local\\programs\\python\\python310\\lib\\site-packages (from prettytable) (0.2.5)\n"
     ]
    }
   ],
   "source": [
    "!pip install prettytable\n",
    "import pandas as pd\n",
    "import numpy as np\n",
    "import matplotlib.pyplot as plt"
   ]
  },
  {
   "cell_type": "code",
   "execution_count": 3,
   "id": "bbec6bb7",
   "metadata": {},
   "outputs": [
    {
     "name": "stdout",
     "output_type": "stream",
     "text": [
      "+--------+--------------------+---------------------+----------------------+\n",
      "| Signal |     Operation      |       Acrobat       |       Handball       |\n",
      "+--------+--------------------+---------------------+----------------------+\n",
      "| cop_x  |        Mean        | -0.2566870001307499 | 0.034958453433696836 |\n",
      "| cop_x  |       Median       |      -0.189383      |      0.0549495       |\n",
      "| cop_x  | Standart deviation | 0.34917674059432735 |      0.0549495       |\n",
      "+--------+--------------------+---------------------+----------------------+\n",
      "+--------+--------------------+--------------------+-------------------+\n",
      "| Signal |     Operation      |      Acrobat       |      Handball     |\n",
      "+--------+--------------------+--------------------+-------------------+\n",
      "| cop_y  |        Mean        | 3.881833699318263  | 2.100842326426754 |\n",
      "| cop_y  |       Median       |      3.74698       |      2.05225      |\n",
      "| cop_y  | Standart deviation | 0.7792045682630889 |      2.05225      |\n",
      "+--------+--------------------+--------------------+-------------------+\n",
      "+---------+--------------------+---------------------+-------------------+\n",
      "|  Signal |     Operation      |       Acrobat       |      Handball     |\n",
      "+---------+--------------------+---------------------+-------------------+\n",
      "| total_f |        Mean        |  25.489810190168637 | 74.92966728462378 |\n",
      "| total_f |       Median       |       25.4842       |      74.9223      |\n",
      "| total_f | Standart deviation | 0.10376601751343709 |      74.9223      |\n",
      "+---------+--------------------+---------------------+-------------------+\n"
     ]
    }
   ],
   "source": [
    "#Зчитуємо сигнали\n",
    "acr_base = pd.read_csv('Downloads\\\\laba\\\\2.6.12\\\\acrobat\\\\2.csv', header = None, sep = ' ')\n",
    "x1 = acr_base[5]\n",
    "y1 = acr_base[6]\n",
    "z1 = acr_base[7]\n",
    "hand_base = pd.read_csv('Downloads\\\\laba\\\\2.6.12\\\\handball\\\\1.csv', header = None, sep = ' ')\n",
    "x2 = hand_base[5]\n",
    "y2 = hand_base[6]\n",
    "z2 = hand_base[7]\n",
    "#Створюємо таблиці\n",
    "from prettytable import PrettyTable\n",
    "base_x = PrettyTable()\n",
    "base_x.field_names = [\"Signal\", \"Operation\", \"Acrobat\", \"Handball\"]\n",
    "base_x.add_rows(\n",
    "    [\n",
    "        [\"cop_x\", \"Mean\", np.mean(x1), np.mean(x2)],\n",
    "        [\"cop_x\", \"Median\", np.median(x1), np.median(x2)],\n",
    "        [\"cop_x\", \"Standart deviation\", np.std(x1), np.median(x2)]\n",
    "    ]\n",
    ")\n",
    "#Виводимо таблицю на екран\n",
    "print(base_x)\n",
    "base_y = PrettyTable()\n",
    "base_y.field_names = [\"Signal\", \"Operation\", \"Acrobat\", \"Handball\"]\n",
    "base_y.add_rows(\n",
    "    [\n",
    "        [\"cop_y\", \"Mean\", np.mean(y1), np.mean(y2)],\n",
    "        [\"cop_y\", \"Median\", np.median(y1), np.median(y2)],\n",
    "        [\"cop_y\", \"Standart deviation\", np.std(y1), np.median(y2)]\n",
    "    ]\n",
    ")\n",
    "#Виводимо таблицю на екран\n",
    "print(base_y)\n",
    "base_z = PrettyTable()\n",
    "base_z.field_names = [\"Signal\", \"Operation\", \"Acrobat\", \"Handball\"]\n",
    "base_z.add_rows(\n",
    "    [\n",
    "        [\"total_f\", \"Mean\", np.mean(z1), np.mean(z2)],\n",
    "        [\"total_f\", \"Median\", np.median(z1), np.median(z2)],\n",
    "        [\"total_f\", \"Standart deviation\", np.std(z1), np.median(z2)]\n",
    "    ]\n",
    ")\n",
    "#Виводимо таблицю на екран\n",
    "print(base_z)"
   ]
  },
  {
   "cell_type": "code",
   "execution_count": null,
   "id": "eb540c00",
   "metadata": {},
   "outputs": [],
   "source": []
  }
 ],
 "metadata": {
  "kernelspec": {
   "display_name": "Python 3 (ipykernel)",
   "language": "python",
   "name": "python3"
  },
  "language_info": {
   "codemirror_mode": {
    "name": "ipython",
    "version": 3
   },
   "file_extension": ".py",
   "mimetype": "text/x-python",
   "name": "python",
   "nbconvert_exporter": "python",
   "pygments_lexer": "ipython3",
   "version": "3.10.7"
  }
 },
 "nbformat": 4,
 "nbformat_minor": 5
}
